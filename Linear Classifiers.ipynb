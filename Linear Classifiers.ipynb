{
 "cells": [
  {
   "cell_type": "markdown",
   "id": "07a06625",
   "metadata": {},
   "source": [
    "# Linear Classifiers\n",
    "\n",
    "In this assignment You will load a dataset and train a logistic regression classifier.\n",
    "\n",
    "## The Dataset\n",
    "\n",
    "This dataset is composed of a range of biomedical voice measurements from 31 people, 23 with Parkinson's disease (PD). Each column in the table is a particular voice measure, and each row corresponds one of 195 voice recording from these individuals (\"name\" column). The main aim of the data is to discriminate healthy people from those with PD, according to \"status\" column which is set to 0 for healthy and 1 for PD.\n",
    "\n",
    "### 1. Import necessary packages.\n",
    "\n",
    "For this exercise we need:\n",
    "* pandas\n",
    "* train_test_split\n",
    "* LogisticRegression\n",
    "* pyplot from matplotlib"
   ]
  },
  {
   "cell_type": "code",
   "execution_count": 1,
   "id": "6869a89e",
   "metadata": {},
   "outputs": [],
   "source": [
    "import math\n",
    "import pandas as pd\n",
    "import numpy as np\n",
    "import matplotlib.pyplot as plt\n",
    "from sklearn.model_selection import train_test_split\n",
    "from sklearn.linear_model import LogisticRegression\n",
    "\n",
    "%matplotlib inline"
   ]
  },
  {
   "cell_type": "markdown",
   "id": "09a92e0e",
   "metadata": {},
   "source": [
    "### 2. Load and prepare the dataset.\n",
    "\n",
    "1. Load the dataset into a dataframe named **df_data**.\n",
    "1. Drop the name column. This column is not a feature required by the model.\n",
    "1. Create a dataframe named **X** containing all the columns except the status.\n",
    "1. Create a dataframe named **y** containing the status."
   ]
  },
  {
   "cell_type": "code",
   "execution_count": 2,
   "id": "aa503338",
   "metadata": {},
   "outputs": [],
   "source": [
    "df_data = pd.read_csv('https://tf-assets-prod.s3.amazonaws.com/tf-curric/data-science/parkinsons.data')\n",
    "df_data_1 = df_data.drop(['name'], axis = 1)\n",
    "X = df_data_1.drop(['status'], axis = 1)\n",
    "y = df_data_1['status']"
   ]
  },
  {
   "cell_type": "markdown",
   "id": "dae21f06",
   "metadata": {},
   "source": [
    "### 3. Split the dataset into a training set and a test set."
   ]
  },
  {
   "cell_type": "code",
   "execution_count": 3,
   "id": "ffd2c6ea",
   "metadata": {},
   "outputs": [],
   "source": [
    "X_train, X_test, y_train, y_test = train_test_split(X, y)"
   ]
  },
  {
   "cell_type": "markdown",
   "id": "546b93bd",
   "metadata": {},
   "source": [
    "### 4. Create the model.\n",
    "\n",
    "1. Instantiate a logistic regression classifier with a `lbfgs` solver and penalty set to `none`.\n",
    "1. Fit the classifer to the data.\n",
    "\n",
    "#### If the algorithm fails to converge, what change can you make to fix that?"
   ]
  },
  {
   "cell_type": "code",
   "execution_count": 4,
   "id": "1fef545c",
   "metadata": {},
   "outputs": [],
   "source": [
    "# The answer had it like this:\n",
    "# lr_score = lr.score(X_test, y_test)\n",
    "\n",
    "# print('Accuracy of Logistic Regression without regularization: {:.3f}'.format(lr_score))"
   ]
  },
  {
   "cell_type": "code",
   "execution_count": 5,
   "id": "b72be2cc",
   "metadata": {},
   "outputs": [
    {
     "name": "stdout",
     "output_type": "stream",
     "text": [
      "Accuracy score: 0.8163265306122449\n",
      "Number of iterations: 100\n"
     ]
    },
    {
     "name": "stderr",
     "output_type": "stream",
     "text": [
      "/opt/anaconda3/lib/python3.8/site-packages/sklearn/linear_model/_logistic.py:814: ConvergenceWarning: lbfgs failed to converge (status=1):\n",
      "STOP: TOTAL NO. of ITERATIONS REACHED LIMIT.\n",
      "\n",
      "Increase the number of iterations (max_iter) or scale the data as shown in:\n",
      "    https://scikit-learn.org/stable/modules/preprocessing.html\n",
      "Please also refer to the documentation for alternative solver options:\n",
      "    https://scikit-learn.org/stable/modules/linear_model.html#logistic-regression\n",
      "  n_iter_i = _check_optimize_result(\n"
     ]
    }
   ],
   "source": [
    "lr = LogisticRegression(solver = 'lbfgs', penalty = 'none')\n",
    "lr.fit(X_train, y_train)\n",
    "\n",
    "print('Accuracy score: %s' % lr.score(X_test, y_test))\n",
    "print('Number of iterations: %s' % lr.n_iter_[0])"
   ]
  },
  {
   "cell_type": "markdown",
   "id": "1ccc4138",
   "metadata": {},
   "source": [
    "The algorithm failed to converge, so I will increase the number of iteration."
   ]
  },
  {
   "cell_type": "code",
   "execution_count": 6,
   "id": "4bf5e459",
   "metadata": {},
   "outputs": [
    {
     "name": "stdout",
     "output_type": "stream",
     "text": [
      "Accuracy score of the first model: 0.8367346938775511\n",
      "Number of iterations: 1000\n",
      "Score on first training data:  0.8767123287671232\n",
      "Score on first test data:  0.8367346938775511\n"
     ]
    },
    {
     "name": "stderr",
     "output_type": "stream",
     "text": [
      "/opt/anaconda3/lib/python3.8/site-packages/sklearn/linear_model/_logistic.py:814: ConvergenceWarning: lbfgs failed to converge (status=1):\n",
      "STOP: TOTAL NO. of ITERATIONS REACHED LIMIT.\n",
      "\n",
      "Increase the number of iterations (max_iter) or scale the data as shown in:\n",
      "    https://scikit-learn.org/stable/modules/preprocessing.html\n",
      "Please also refer to the documentation for alternative solver options:\n",
      "    https://scikit-learn.org/stable/modules/linear_model.html#logistic-regression\n",
      "  n_iter_i = _check_optimize_result(\n"
     ]
    }
   ],
   "source": [
    "lr = LogisticRegression(solver = 'lbfgs', penalty = 'none', max_iter = 1000)\n",
    "lr.fit(X_train, y_train)\n",
    "\n",
    "print('Accuracy score of the first model: %s' % lr.score(X_test, y_test))\n",
    "print('Number of iterations: %s' % lr.n_iter_[0])\n",
    "\n",
    "lr_test_score = lr.score(X_test, y_test)\n",
    "lr_train_score = lr.score(X_train, y_train)\n",
    "\n",
    "print('Score on first training data: ', lr_train_score)\n",
    "print('Score on first test data: ', lr_test_score)"
   ]
  },
  {
   "cell_type": "markdown",
   "id": "7f3f1ce6",
   "metadata": {},
   "source": [
    "### 6. L2 Regularization.\n",
    "\n",
    "Train another model with L2 regularization and compare the accuracy of the new model to the previous one."
   ]
  },
  {
   "cell_type": "code",
   "execution_count": 7,
   "id": "01e6be2e",
   "metadata": {},
   "outputs": [],
   "source": [
    "# The answer had it like this:\n",
    "\n",
    "# lr = LogisticRegression(solver='lbfgs', penalty='l2', max_iter=1000)\n",
    "# lr.fit(X_train, y_train)\n",
    "# lr_score = lr.score(X_test, y_test)\n",
    "\n",
    "# print('Accuracy of Logistic Regression with L2 regularization: {:.3f}'.format("
   ]
  },
  {
   "cell_type": "code",
   "execution_count": 8,
   "id": "9c5d42e8",
   "metadata": {},
   "outputs": [
    {
     "name": "stdout",
     "output_type": "stream",
     "text": [
      "Accuracy score of the L2 model: 0.7959183673469388\n",
      "Number of iterations: 252\n",
      "Score on regularized training data:  0.8904109589041096\n",
      "Score on regularized test data:  0.7959183673469388\n"
     ]
    }
   ],
   "source": [
    "lr_l2 = LogisticRegression(solver = 'lbfgs', penalty = 'l2', max_iter = 10000)\n",
    "lr_l2.fit(X_train, y_train)\n",
    "\n",
    "lr_l2_test_score = lr_l2.score(X_test, y_test)\n",
    "lr_l2_train_score = lr_l2.score(X_train, y_train)\n",
    "\n",
    "print('Accuracy score of the L2 model: %s' % lr_l2.score(X_test, y_test))\n",
    "print('Number of iterations: %s' % lr_l2.n_iter_[0])\n",
    "\n",
    "print('Score on regularized training data: ', lr_l2_train_score)\n",
    "print('Score on regularized test data: ', lr_l2_test_score)"
   ]
  },
  {
   "cell_type": "markdown",
   "id": "73383c8b",
   "metadata": {},
   "source": [
    "The regularized training data is less accurate."
   ]
  },
  {
   "cell_type": "code",
   "execution_count": 9,
   "id": "274c48c0",
   "metadata": {},
   "outputs": [
    {
     "data": {
      "image/png": "[encoded data removed]",
      "text/plain": [
       "<Figure size 576x576 with 3 Axes>"
      ]
     },
     "metadata": {
      "needs_background": "light"
     },
     "output_type": "display_data"
    }
   ],
   "source": [
    "fig = plt.figure(figsize = (8, 8))\n",
    "grid = plt.GridSpec(2, 2, hspace = 0.5, wspace = 0.5)\n",
    "\n",
    "x = np.arange(0, len(lr.coef_[0]), 1)\n",
    "y = lr.coef_[0]\n",
    "ax1 = fig.add_subplot(grid[0, 0])\n",
    "ax1.plot(x, y, '-g')\n",
    "ax1.set(xlabel = 'Features', ylabel = 'Coefficients') \n",
    "ax1.set_title('No Regularization')\n",
    "\n",
    "y_reg = lr_l2.coef_[0]\n",
    "ax2 = fig.add_subplot(grid[0, 1])\n",
    "ax2.plot(x, y_reg, '-r')\n",
    "ax2.set(xlabel='Features', ylabel='Coefficients')\n",
    "ax2.set_title('L2 Regularization')\n",
    "\n",
    "ax3 = fig.add_subplot(grid[1, 0:])\n",
    "ax3.plot(x, y, '-g')\n",
    "ax3.plot(x, y_reg, '-r')\n",
    "ax3.set(xlabel = 'Features', ylabel = 'Coefficients')\n",
    "ax3.set_title('Both on same chart for comparison')\n",
    "\n",
    "plt.show()"
   ]
  },
  {
   "cell_type": "markdown",
   "id": "ad42e3f6",
   "metadata": {},
   "source": [
    "### 7. Choose the C parameter.\n",
    "\n",
    "Use a loop to test the effect of varying the C parameter from 0.05 to 1.5 in increments of 0.5. Plot a graph to show the accuracy on the test data versus the accuracy on the training data. Select an appropriate value for C and explain why that may be the best value."
   ]
  },
  {
   "cell_type": "code",
   "execution_count": 10,
   "id": "f262f9fd",
   "metadata": {},
   "outputs": [
    {
     "data": {
      "image/png": "[encoded data removed]",
      "text/plain": [
       "<Figure size 576x288 with 1 Axes>"
      ]
     },
     "metadata": {
      "needs_background": "light"
     },
     "output_type": "display_data"
    }
   ],
   "source": [
    "c_vals = np.arange(0.05, 1.5, 0.05)\n",
    "test_accuracy = []\n",
    "train_accuracy = []\n",
    "\n",
    "for c in c_vals:\n",
    "    lr = LogisticRegression(solver = 'lbfgs', penalty = 'l2', C = c, max_iter = 10000)\n",
    "    lr.fit(X_train, y_train)\n",
    "    test_accuracy.append(lr.score(X_test, y_test))\n",
    "    train_accuracy.append(lr.score(X_train, y_train))\n",
    "    \n",
    "fig = plt.figure(figsize = (8, 4))\n",
    "ax1 = fig.add_subplot(1, 1, 1)\n",
    "ax1.plot(c_vals, test_accuracy, '-g', label = 'Test Accuracy')\n",
    "ax1.plot(c_vals, train_accuracy, '-b', label = 'Train Accuracy')\n",
    "ax1.set(xlabel = 'C', ylabel = 'Accuracy')\n",
    "ax1.set_title('Effect of C on Accuracy')\n",
    "ax1.legend()\n",
    "\n",
    "plt.show()"
   ]
  },
  {
   "cell_type": "markdown",
   "id": "bb0adbf6",
   "metadata": {},
   "source": [
    "The best accuracy for both seems to be around between 1.2 and 1.4. The minimum distance between training and test accuracy in the range seems to be the 1.3 mark. Thus, 1.3 is the best choice for C. "
   ]
  }
 ],
 "metadata": {
  "kernelspec": {
   "display_name": "Python 3 (ipykernel)",
   "language": "python",
   "name": "python3"
  },
  "language_info": {
   "codemirror_mode": {
    "name": "ipython",
    "version": 3
   },
   "file_extension": ".py",
   "mimetype": "text/x-python",
   "name": "python",
   "nbconvert_exporter": "python",
   "pygments_lexer": "ipython3",
   "version": "3.8.2"
  }
 },
 "nbformat": 4,
 "nbformat_minor": 5
}
