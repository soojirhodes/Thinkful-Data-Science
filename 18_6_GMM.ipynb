{
 "cells": [
  {
   "cell_type": "markdown",
   "id": "f4c20bdf",
   "metadata": {},
   "source": [
    "In this assignment, you'll continue working with the [heart disease dataset](http://archive.ics.uci.edu/ml/datasets/Heart+Disease) from the UC Irvine Machine Learning Repository.\n",
    "\n",
    "Load the dataset from Thinkful's database. To connect to the database, use these credentials:\n",
    "```\n",
    "postgres_user = 'dsbc_student'\n",
    "postgres_pw = '7*.8G9QH21'\n",
    "postgres_host = '142.93.121.174'\n",
    "postgres_port = '5432'\n",
    "postgres_db = 'heartdisease'\n",
    "```\n",
    "The dataset needs some preprocessing. So, before working with the dataset, apply the following code:\n",
    "```\n",
    "# Define the features and the outcome\n",
    "X = heartdisease_df.iloc[:, :13]\n",
    "y = heartdisease_df.iloc[:, 13]\n",
    "\n",
    "# Replace missing values (marked by `?`) with a `0`\n",
    "X = X.replace(to_replace='?', value=0)\n",
    "\n",
    "# Binarize y so that `1` means heart disease diagnosis and `0` means no diagnosis\n",
    "y = np.where(y > 0,1, 0)\n",
    "```\n",
    "Here, `X` will represent your features and `y` will hold the labels. If `y` is equal to `1`, that indicates that the corresponding patient has heart disease. And if `y` is equal to `0`, then the patient doesn't have heart disease.\n",
    "\n",
    "To complete this assignment, submit a link to a Jupyter Notebook containing your solutions to the following tasks below. You can also take a look at these [example solutions](https://github.com/Thinkful-Ed/data-201-resources/blob/master/clustering_module_solutions/6.solution_gmm.ipynb).\n",
    "\n",
    "1. Apply GMM to the heart disease dataset by setting `n_components=2`. Get ARI and silhouette scores for your solution and compare it with those of the k-means and hierarchical clustering solutions that you implemented in the previous checkpoint assignments. Which algorithm performs best?\n",
    "1. GMM implementation of scikit-learn has a parameter called `covariance_type`. This parameter determines the type of covariance parameters to use. There are four types that you can specify:\n",
    " 1. `full`: This is the default. Each component has its own general covariance matrix.\n",
    " 1. `tied`: All components share the same general covariance matrix.\n",
    " 1. `diag`: Each component has its own diagonal covariance matrix.\n",
    " 1. `spherical`: Each component has its own single variance.\n",
    "\n",
    " Try all of these. Which one performs best in terms of ARI and silhouette scores?"
   ]
  },
  {
   "cell_type": "code",
   "execution_count": 1,
   "id": "06c10868",
   "metadata": {},
   "outputs": [],
   "source": [
    "import numpy as np\n",
    "import pandas as pd\n",
    "import matplotlib.pyplot as plt\n",
    "from matplotlib.patches import Ellipse\n",
    "from sklearn.preprocessing import StandardScaler\n",
    "from sklearn.mixture import GaussianMixture\n",
    "from sklearn.decomposition import PCA\n",
    "from sklearn import datasets, metrics\n",
    "from sqlalchemy import create_engine\n",
    "\n",
    "\n",
    "postgres_user = 'dsbc_student'\n",
    "postgres_pw = '7*.8G9QH21'\n",
    "postgres_host = '142.93.121.174'\n",
    "postgres_port = '5432'\n",
    "postgres_db = 'heartdisease'\n",
    "\n",
    "engine = create_engine('postgresql://{}:{}@{}:{}/{}'.format(\n",
    "    postgres_user, postgres_pw, postgres_host, postgres_port, postgres_db))\n",
    "heartdisease_df = pd.read_sql_query('select * from heartdisease', con = engine)\n",
    "engine.dispose()\n",
    "\n",
    "# Define the features and the outcome\n",
    "X = heartdisease_df.iloc[:, :13]\n",
    "y = heartdisease_df.iloc[:, 13]\n",
    "\n",
    "# Replace missing values (marked by `?`) with a `0`\n",
    "X = X.replace(to_replace='?', value=0)\n",
    "\n",
    "# Binarize y so that `1` means heart disease diagnosis and `0` means no diagnosis\n",
    "y = np.where(y > 0,1, 0)"
   ]
  },
  {
   "cell_type": "markdown",
   "id": "415d96e9",
   "metadata": {},
   "source": [
    "# Apply GMM to the heart disease dataset by setting `n_components=2`. Get ARI and silhouette scores for your solution and compare it with those of the k-means and hierarchical clustering solutions that you implemented in the previous checkpoint assignments. Which algorithm performs best?"
   ]
  },
  {
   "cell_type": "code",
   "execution_count": 2,
   "id": "7a6ee35d",
   "metadata": {},
   "outputs": [
    {
     "name": "stdout",
     "output_type": "stream",
     "text": [
      "Adjusted Rand Index of the GMM solution: 0.18389186035089963\n",
      "The silhouette score of the GMM solution: 0.13628813153331445\n"
     ]
    }
   ],
   "source": [
    "X_std = StandardScaler().fit_transform(X)\n",
    "\n",
    "gmm_cluster = GaussianMixture(n_components = 2)\n",
    "clusters = gmm_cluster.fit_predict(X_std)\n",
    "\n",
    "print(\"Adjusted Rand Index of the GMM solution: {}\"\n",
    "     .format(metrics.adjusted_rand_score(y, clusters)))\n",
    "print(\"The silhouette score of the GMM solution: {}\"\n",
    "     .format(metrics.silhouette_score(X_std, clusters, metric = 'euclidean')))"
   ]
  },
  {
   "cell_type": "markdown",
   "id": "08c07dfd",
   "metadata": {},
   "source": [
    "The two-cluster k-means ARI was 0.43 and the silhouette score was 0.17. For the hierarchical cluster, the ARI was 0.14 and the silhouette score was 0.14. Based on both socres, the K-means solution was the best solution for this dataset. "
   ]
  },
  {
   "cell_type": "markdown",
   "id": "3ac78cf7",
   "metadata": {},
   "source": [
    "# 1. GMM implementation of scikit-learn has a parameter called `covariance_type`. This parameter determines the type of covariance parameters to use. There are four types that you can specify: full, tied, diag, spherical. Try all of these. Which one performs best in terms of ARI and silhouette scores?"
   ]
  },
  {
   "cell_type": "code",
   "execution_count": 4,
   "id": "5082c0ec",
   "metadata": {},
   "outputs": [
    {
     "name": "stdout",
     "output_type": "stream",
     "text": [
      "Adjusted Rand Index of the GMM solution with covariance_type = full: 0.4207322145049338\n",
      "The silhouette score of the GMM solution with covariance_type = full: 0.16118591340148433\n",
      "\n",
      "Adjusted Rand Index of the GMM solution with covariance_type = tied: 0.18389186035089963\n",
      "The silhouette score of the GMM solution with covariance_type = tied: 0.13628813153331445\n",
      "\n",
      "Adjusted Rand Index of the GMM solution with covariance_type = diag: 0.18389186035089963\n",
      "The silhouette score of the GMM solution with covariance_type = diag: 0.13628813153331445\n",
      "\n",
      "Adjusted Rand Index of the GMM solution with covariance_type = spherical: 0.20765243525722468\n",
      "The silhouette score of the GMM solution with covariance_type = spherical: 0.12468753110276873\n"
     ]
    }
   ],
   "source": [
    "gmm_full = GaussianMixture(n_components = 2, covariance_type = 'full')\n",
    "full_cluster = gmm_full.fit_predict(X_std)\n",
    "gmm_tied = GaussianMixture(n_components = 2, covariance_type = 'tied')\n",
    "tied_cluster = gmm_tied.fit_predict(X_std)\n",
    "gmm_diag = GaussianMixture(n_components = 2, covariance_type = 'diag')\n",
    "diag_cluster = gmm_diag.fit_predict(X_std)\n",
    "gmm_sphe = GaussianMixture(n_components = 2, covariance_type = 'spherical')\n",
    "sphe_cluster = gmm_sphe.fit_predict(X_std)\n",
    "\n",
    "print(\"Adjusted Rand Index of the GMM solution with covariance_type = full: {}\"\n",
    "     .format(metrics.adjusted_rand_score(y, full_cluster)))\n",
    "print(\"The silhouette score of the GMM solution with covariance_type = full: {}\"\n",
    "     .format(metrics.silhouette_score(X_std, full_cluster, metric = 'euclidean')))\n",
    "print(\"\\nAdjusted Rand Index of the GMM solution with covariance_type = tied: {}\"\n",
    "     .format(metrics.adjusted_rand_score(y, tied_cluster)))\n",
    "print(\"The silhouette score of the GMM solution with covariance_type = tied: {}\"\n",
    "     .format(metrics.silhouette_score(X_std, tied_cluster, metric = 'euclidean')))\n",
    "print(\"\\nAdjusted Rand Index of the GMM solution with covariance_type = diag: {}\"\n",
    "     .format(metrics.adjusted_rand_score(y, diag_cluster)))\n",
    "print(\"The silhouette score of the GMM solution with covariance_type = diag: {}\"\n",
    "     .format(metrics.silhouette_score(X_std, diag_cluster, metric = 'euclidean')))\n",
    "print(\"\\nAdjusted Rand Index of the GMM solution with covariance_type = spherical: {}\"\n",
    "     .format(metrics.adjusted_rand_score(y, sphe_cluster)))\n",
    "print(\"The silhouette score of the GMM solution with covariance_type = spherical: {}\"\n",
    "     .format(metrics.silhouette_score(X_std, sphe_cluster, metric = 'euclidean')))"
   ]
  },
  {
   "cell_type": "markdown",
   "id": "cf68f21a",
   "metadata": {},
   "source": [
    "Based on the covariance type, the full covariance type performs the best."
   ]
  }
 ],
 "metadata": {
  "kernelspec": {
   "display_name": "Python 3 (ipykernel)",
   "language": "python",
   "name": "python3"
  },
  "language_info": {
   "codemirror_mode": {
    "name": "ipython",
    "version": 3
   },
   "file_extension": ".py",
   "mimetype": "text/x-python",
   "name": "python",
   "nbconvert_exporter": "python",
   "pygments_lexer": "ipython3",
   "version": "3.8.2"
  }
 },
 "nbformat": 4,
 "nbformat_minor": 5
}
