{
 "cells": [
  {
   "cell_type": "markdown",
   "id": "e977700f",
   "metadata": {},
   "source": [
    "In this assessment, you will load a dataset and train a logistic regression classifier using the techniques discussed in the lesson to measure the performance. You'll be using the [Statlog Shuttle](http://archive.ics.uci.edu/ml/datasets/Statlog+%28Shuttle%29) dataset from UCI. Start by accessing the dataset directly to train your classifier.\n",
    "\n",
    "# The dataset\n",
    "\n",
    "Each record contains nine numerical attributes. The 10th column is the target column. There are two classes to predict; they are called `positive` and `negative`.\n",
    "\n",
    "# 1. Import necessary packages\n",
    "For this exercise, you'll need the following packages:"
   ]
  },
  {
   "cell_type": "code",
   "execution_count": 1,
   "id": "42640f77",
   "metadata": {},
   "outputs": [],
   "source": [
    "import pandas as pd\n",
    "import numpy as np\n",
    "import seaborn as sns\n",
    "import itertools\n",
    "from sklearn.model_selection import train_test_split, cross_val_score\n",
    "from sklearn.linear_model import LogisticRegression\n",
    "import matplotlib.pyplot as plt\n",
    "from sklearn.neighbors import KNeighborsClassifier\n",
    "from sklearn.ensemble import RandomForestClassifier\n",
    "from sklearn.dummy import DummyClassifier\n",
    "from sklearn.metrics import confusion_matrix, accuracy_score, precision_score, recall_score, f1_score, fbeta_score, classification_report, roc_curve, precision_recall_curve, roc_auc_score\n",
    "from sklearn.utils.multiclass import unique_labels"
   ]
  },
  {
   "cell_type": "markdown",
   "id": "bc45b6d7",
   "metadata": {},
   "source": [
    "# 2. Load and prepare the dataset\n",
    "1. Load the training data into a DataFrame named `df_train_data`.\n",
    "1. Create binary classification problem; rename some class labels.\n",
    "1. Create a DataFrame of nine features named `X`, drop column 9.\n",
    "1. Create a DataFrame of labels named `y`, select only column 9.\n",
    "1. Split the data into a training set and a test set."
   ]
  },
  {
   "cell_type": "code",
   "execution_count": 2,
   "id": "75efd122",
   "metadata": {},
   "outputs": [
    {
     "name": "stdout",
     "output_type": "stream",
     "text": [
      "There are 10875 training samples and 3625 test samples\n"
     ]
    }
   ],
   "source": [
    "# Load the training data into a DataFrame\n",
    "df_train_data = pd.read_csv('http://archive.ics.uci.edu/ml/machine-learning-databases/statlog/shuttle/shuttle.tst', header=None, sep=' ')\n",
    "\n",
    "# Create binary classification problem; rename some class labels.\n",
    "df_train_data[9] = np.where(df_train_data[9] == 1, 1, 0)\n",
    "\n",
    "# Create a DataFrame of nine features named `X`, drop column 9.\n",
    "X = df_train_data.drop([9], axis = 1)\n",
    "\n",
    "# Create a DataFrame of labels named `y`, select only column 9.\n",
    "y = df_train_data[9]\n",
    "\n",
    "# Split the data into a training set and a test set.\n",
    "X_train, X_test, y_train, y_test = train_test_split(X, y)\n",
    "\n",
    "print('There are {:d} training samples and {:d} test samples'.format(X_train.shape[0], X_test.shape[0]))\n"
   ]
  },
  {
   "cell_type": "markdown",
   "id": "5bc51719",
   "metadata": {},
   "source": [
    "# 3. Create the model\n",
    "\n",
    "1. Instantiate a logistic regression classifier with an `lbfgs` solver.\n",
    "1. Fit the classifier to the data."
   ]
  },
  {
   "cell_type": "code",
   "execution_count": 3,
   "id": "f8854299",
   "metadata": {},
   "outputs": [
    {
     "name": "stderr",
     "output_type": "stream",
     "text": [
      "/opt/anaconda3/lib/python3.8/site-packages/sklearn/linear_model/_logistic.py:814: ConvergenceWarning: lbfgs failed to converge (status=1):\n",
      "STOP: TOTAL NO. of ITERATIONS REACHED LIMIT.\n",
      "\n",
      "Increase the number of iterations (max_iter) or scale the data as shown in:\n",
      "    https://scikit-learn.org/stable/modules/preprocessing.html\n",
      "Please also refer to the documentation for alternative solver options:\n",
      "    https://scikit-learn.org/stable/modules/linear_model.html#logistic-regression\n",
      "  n_iter_i = _check_optimize_result(\n"
     ]
    },
    {
     "data": {
      "text/plain": [
       "array([[ 1.86752817e+00, -2.03400043e-02, -1.31437223e+00,\n",
       "         2.45890260e-01, -8.18067940e-01,  4.17240120e-04,\n",
       "         1.88115402e+00, -5.31860014e-01, -4.37870647e-01]])"
      ]
     },
     "execution_count": 3,
     "metadata": {},
     "output_type": "execute_result"
    }
   ],
   "source": [
    "# Instantiate a logistic regression classifier with an `lbfgs` solver.\n",
    "lr = LogisticRegression(solver = 'lbfgs')\n",
    "lr.fit(X_train, y_train)\n",
    "lr.coef_"
   ]
  },
  {
   "cell_type": "code",
   "execution_count": 4,
   "id": "2e331a0d",
   "metadata": {},
   "outputs": [
    {
     "data": {
      "text/plain": [
       "array([[ 2.13269595e-01,  2.69472599e-03, -2.36476335e-01,\n",
       "         2.90254011e-02, -4.94963176e-01, -3.30764134e-04,\n",
       "         9.96236131e-01, -8.19620063e-01,  1.25813631e-01]])"
      ]
     },
     "execution_count": 4,
     "metadata": {},
     "output_type": "execute_result"
    }
   ],
   "source": [
    "# To avoid the warning sign, we will set `max_iter` higher.\n",
    "# To get a consistent value, we will use random_state.\n",
    "lr = LogisticRegression(solver = 'lbfgs', max_iter = 1000, random_state = 50)\n",
    "lr.fit(X_train, y_train)\n",
    "lr.coef_"
   ]
  },
  {
   "cell_type": "markdown",
   "id": "47757740",
   "metadata": {},
   "source": [
    "# 4. Calculate accuracy\n",
    "Calculate and print the accuracy of the model on the test data."
   ]
  },
  {
   "cell_type": "code",
   "execution_count": 5,
   "id": "29bd687a",
   "metadata": {},
   "outputs": [
    {
     "name": "stdout",
     "output_type": "stream",
     "text": [
      "The logistic regression classifier model has the accuracy of 0.974.\n"
     ]
    }
   ],
   "source": [
    "# Accuracy of the model:\n",
    "accuracy = lr.score(X_test, y_test)\n",
    "\n",
    "print(\"The logistic regression classifier model has the accuracy of {:.3f}.\".format(accuracy))"
   ]
  },
  {
   "cell_type": "markdown",
   "id": "13c78df3",
   "metadata": {},
   "source": [
    "# 5. Dummy classifier\n",
    "\n",
    "Use the dummy classifier to calculate the accuracy of a purely random chance.\n",
    "\n",
    "Compare this result to the result of the logistic regression classifier above. What does this result tell you?\n",
    "\n"
   ]
  },
  {
   "cell_type": "code",
   "execution_count": 6,
   "id": "b42b71c3",
   "metadata": {},
   "outputs": [
    {
     "name": "stdout",
     "output_type": "stream",
     "text": [
      "The dummy classifier has the accuracy of 0.790.\n"
     ]
    }
   ],
   "source": [
    "# Dummy classifier accuracy: \n",
    "dummy = DummyClassifier(strategy = 'most_frequent')\n",
    "dummy.fit(X_train, y_train)\n",
    "dummy_score = dummy.score(X_test, y_test)\n",
    "\n",
    "print(\"The dummy classifier has the accuracy of {:.3f}.\".format(dummy_score))"
   ]
  },
  {
   "cell_type": "markdown",
   "id": "b628cf82",
   "metadata": {},
   "source": [
    "### Compared to the logistic regression classifier accuracy of 0.969, the dummy classifier accuracy of 0.792 is lower. This tells me that I may have a large class imbalance."
   ]
  },
  {
   "cell_type": "markdown",
   "id": "d12619ed",
   "metadata": {},
   "source": [
    "# 6. Confusion matrix\n",
    "Print the confusion matrix."
   ]
  },
  {
   "cell_type": "code",
   "execution_count": 7,
   "id": "422bdc11",
   "metadata": {},
   "outputs": [
    {
     "name": "stdout",
     "output_type": "stream",
     "text": [
      "[[2828   37]\n",
      " [  57  703]]\n"
     ]
    }
   ],
   "source": [
    "predictions = lr.predict(X_test)\n",
    "\n",
    "confusion = confusion_matrix(y_test, predictions, labels = [1, 0])\n",
    "print(confusion)\n"
   ]
  },
  {
   "cell_type": "markdown",
   "id": "c3cee92d",
   "metadata": {},
   "source": [
    "# 7. Plot a nicer confusion matrix (optional)\n",
    "Use the `plot_confusion_matrix()` function from above to plot a nicer-looking confusion matrix."
   ]
  },
  {
   "cell_type": "code",
   "execution_count": 8,
   "id": "3fd0a5a3",
   "metadata": {},
   "outputs": [
    {
     "data": {
      "image/png": "[encoded data removed]",
      "text/plain": [
       "<Figure size 576x432 with 2 Axes>"
      ]
     },
     "metadata": {
      "needs_background": "light"
     },
     "output_type": "display_data"
    }
   ],
   "source": [
    "def plot_confusion_matrix(cm, target_names, title = 'Confusion Matrix',\n",
    "                         cmap = None, normalize = True):\n",
    "    accuracy = np.trace(cm) / float(np.sum(cm))\n",
    "    misclass = 1 - accuracy\n",
    "    \n",
    "    if cmap is None:\n",
    "        cmap = plt.get_cmap('Blues')\n",
    "        \n",
    "    plt.figure(figsize = (8, 6))\n",
    "    plt.imshow(cm, interpolation = 'nearest', cmap = cmap)\n",
    "    plt.title(title)\n",
    "    plt.colorbar()\n",
    "    \n",
    "    if target_names is not None:\n",
    "        tick_marks = np.arange(len(target_names))\n",
    "        plt.xticks(tick_marks, target_names, rotation = 45)\n",
    "        plt.yticks(tick_marks, target_names)\n",
    "        \n",
    "    if normalize:\n",
    "        cm = cm.astype('float') / cm.sum(axis = 1)[:, np.newaxis]\n",
    "        \n",
    "    thresh = cm.max() / 1.5 if normalize else cm.max() / 2\n",
    "    for i, j in itertools.product(range(cm.shape[0]), range(cm.shape[1])):\n",
    "        if normalize:\n",
    "            plt.text(j, i, \"{:0.4f}\".format(cm[i, j]), horizontalalignment = 'center',\n",
    "                    color = 'white' if cm[i, j] > thresh else 'black')\n",
    "            \n",
    "        else:\n",
    "            plt.text(j, i, \"{:,}\".format(cm[i, j]), horizontalalignment = 'center',\n",
    "                    color = 'white' if cm[i, j] > thresh else 'black')\n",
    "    \n",
    "\n",
    "    plt.tight_layout()\n",
    "    plt.ylabel('True label')\n",
    "    plt.xlabel('Predicted label\\naccuracy={:0.4f}; misclass={:0.4f}'.format(accuracy, misclass))\n",
    "    plt.show()\n",
    "    \n",
    "plot_confusion_matrix(cm=confusion, target_names = ['Negative', 'Positive'], \n",
    "                 title = 'Confusion Matrix', normalize = False)"
   ]
  },
  {
   "cell_type": "markdown",
   "id": "92418a48",
   "metadata": {},
   "source": [
    "# 8. Calculate metrics\n",
    "Print the F₁, Fᵦ, precision, recall, and accuracy scores."
   ]
  },
  {
   "cell_type": "code",
   "execution_count": 9,
   "id": "a8e0bb48",
   "metadata": {},
   "outputs": [
    {
     "name": "stdout",
     "output_type": "stream",
     "text": [
      "Accuracy score: 0.974\n",
      "Precision score: 0.980\n",
      "Recall score: 0.987\n",
      "F1 score: 0.984\n",
      "Fbeta score favoring precision: 0.982\n",
      "Fbeta score favoring recall: 0.986\n"
     ]
    }
   ],
   "source": [
    "accuracy = accuracy_score(y_test, predictions)\n",
    "precision = precision_score(y_test, predictions)\n",
    "recall = recall_score(y_test, predictions)\n",
    "f1 = f1_score(y_test, predictions)\n",
    "fbeta_precision = fbeta_score(y_test, predictions, beta = 0.5)\n",
    "fbeta_recall = fbeta_score(y_test, predictions, beta = 2)\n",
    "\n",
    "print('Accuracy score: {:.3f}'.format(accuracy))\n",
    "print('Precision score: {:.3f}'.format(precision))\n",
    "print('Recall score: {:.3f}'.format(recall))\n",
    "print('F1 score: {:.3f}'.format(f1))\n",
    "print('Fbeta score favoring precision: {:.3f}'.format(fbeta_precision))\n",
    "print('Fbeta score favoring recall: {:.3f}'.format(fbeta_recall))"
   ]
  },
  {
   "cell_type": "markdown",
   "id": "a36ebb5b",
   "metadata": {},
   "source": [
    "# 9. Print a classification report"
   ]
  },
  {
   "cell_type": "code",
   "execution_count": 10,
   "id": "f4e64cb3",
   "metadata": {},
   "outputs": [
    {
     "name": "stdout",
     "output_type": "stream",
     "text": [
      "              precision    recall  f1-score   support\n",
      "\n",
      "    Negative       0.95      0.93      0.94       760\n",
      "    Positive       0.98      0.99      0.98      2865\n",
      "\n",
      "    accuracy                           0.97      3625\n",
      "   macro avg       0.97      0.96      0.96      3625\n",
      "weighted avg       0.97      0.97      0.97      3625\n",
      "\n"
     ]
    }
   ],
   "source": [
    "report = classification_report(y_test, predictions, target_names = ['Negative', 'Positive'])\n",
    "print(report)"
   ]
  },
  {
   "cell_type": "markdown",
   "id": "83d5608c",
   "metadata": {},
   "source": [
    "# 10. Plot the ROC curve and AUC\n",
    "Calculate AUC and plot the curve."
   ]
  },
  {
   "cell_type": "code",
   "execution_count": 11,
   "id": "fcd96c75",
   "metadata": {},
   "outputs": [
    {
     "name": "stdout",
     "output_type": "stream",
     "text": [
      "Area under the ROC curve: 0.992\n"
     ]
    },
    {
     "data": {
      "image/png": "[encoded data removed]",
      "text/plain": [
       "<Figure size 576x576 with 1 Axes>"
      ]
     },
     "metadata": {
      "needs_background": "light"
     },
     "output_type": "display_data"
    }
   ],
   "source": [
    "probs = lr.predict_proba(X_test)[:, 1]\n",
    "\n",
    "fpr, tpr, thresholds = roc_curve(y_test, probs)\n",
    "\n",
    "auc = roc_auc_score(y_test, probs)\n",
    "print('Area under the ROC curve: {:.3f}'.format(auc))\n",
    "\n",
    "fig = plt.figure(figsize = (8, 8))\n",
    "plt.plot([0, 1], [0, 1], 'k--')\n",
    "plt.plot(fpr, tpr)\n",
    "plt.fill(fpr, tpr, 'grey', alpha = 0.3)\n",
    "plt.xlabel('False Positive Rate')\n",
    "plt.ylabel('True Positive Rate')\n",
    "plt.title('ROC Curve for Logistic Regression Model')\n",
    "plt.show()"
   ]
  },
  {
   "cell_type": "markdown",
   "id": "dad4dbd6",
   "metadata": {},
   "source": [
    "# 11. Plot precision-recall curve\n",
    "\n",
    "Plot the precision-recall curve for the model above.\n",
    "\n",
    "Find the best value for `C` in the logistic regression classifier for avoiding overfitting. Plot the training and testing accuracy over a range of `C` values from `0.05` to `1.5`."
   ]
  },
  {
   "cell_type": "code",
   "execution_count": 12,
   "id": "b610daf6",
   "metadata": {},
   "outputs": [
    {
     "data": {
      "image/png": "[encoded data removed]",
      "text/plain": [
       "<Figure size 576x576 with 1 Axes>"
      ]
     },
     "metadata": {
      "needs_background": "light"
     },
     "output_type": "display_data"
    },
    {
     "data": {
      "image/png": "[encoded data removed]",
      "text/plain": [
       "<Figure size 576x288 with 1 Axes>"
      ]
     },
     "metadata": {
      "needs_background": "light"
     },
     "output_type": "display_data"
    },
    {
     "name": "stdout",
     "output_type": "stream",
     "text": [
      "Best value for C: 0.05\n",
      "Best test accuracy: 0.976\n"
     ]
    }
   ],
   "source": [
    "# Plot the precision-recall curve:\n",
    "pres, rec, thresholds = precision_recall_curve(y_test, predictions)\n",
    "fig = plt.figure(figsize = (8, 8))\n",
    "plt.plot(rec, pres)\n",
    "plt.xlabel('Recall')\n",
    "plt.ylabel('Precision')\n",
    "plt.title('Precision-Recall Curve')\n",
    "plt.show()\n",
    "\n",
    "# Find the best value for C for avoiding overfitting.\n",
    "c_vals = np.arange(0.05, 1.5, 0.05)\n",
    "test_accuracy = []\n",
    "train_accuracy = []\n",
    "\n",
    "for c in c_vals:\n",
    "    clr = LogisticRegression(solver='lbfgs', C=c, max_iter=1000, random_state = 50)\n",
    "    clr.fit(X_train, y_train)\n",
    "    test_accuracy.append(clr.score(X_test, y_test))\n",
    "    train_accuracy.append(clr.score(X_train, y_train))\n",
    "    \n",
    "fig = plt.figure(figsize = (8, 4))\n",
    "ax1 = fig.add_subplot(1, 1, 1)\n",
    "ax1.plot(c_vals, test_accuracy, '-g', marker = 'o', label = 'Test Accuracy')\n",
    "ax1.plot(c_vals, train_accuracy, '-b', marker = 'o', label = 'Train Accuracy')\n",
    "ax1.set(xlabel = 'C', ylabel = 'Accuracy')\n",
    "ax1.set_title('Effect of C on Accuracy')\n",
    "ax1.legend()\n",
    "plt.show()\n",
    "\n",
    "best_test_accuracy = max(test_accuracy)\n",
    "print(f\"Best value for C: {c_vals[test_accuracy.index(best_test_accuracy)]}\")\n",
    "print(f\"Best test accuracy: {round(best_test_accuracy, 3)}\")      \n",
    "      "
   ]
  },
  {
   "cell_type": "markdown",
   "id": "9970826e",
   "metadata": {},
   "source": [
    "# 12. Cross-validation\n",
    "\n",
    "Perform fivefold cross-validation for a logistic regression classifier. Print the five accuracy scores and the mean validation score."
   ]
  },
  {
   "cell_type": "code",
   "execution_count": 13,
   "id": "baf887b1",
   "metadata": {},
   "outputs": [
    {
     "name": "stdout",
     "output_type": "stream",
     "text": [
      "Accuracy scores for the five folds:  [0.9645977  0.96505747 0.97011494 0.97241379 0.97241379]\n",
      "Mean cross-validation score: 0.969\n"
     ]
    }
   ],
   "source": [
    "flf = LogisticRegression(solver='lbfgs', max_iter=1000, random_state = 50)\n",
    "cv_scores = cross_val_score(flf, X_train, y_train, cv = 5)\n",
    "\n",
    "print('Accuracy scores for the five folds: ', cv_scores)\n",
    "print('Mean cross-validation score: {:.3f}'.format(np.mean(cv_scores)))"
   ]
  },
  {
   "cell_type": "markdown",
   "id": "624ed074",
   "metadata": {},
   "source": [
    "# 13. Is this really linear?\n",
    "\n",
    "Your linear classifier is not giving you better accuracy than the dummy classifier. Suppose that the data was not linearly separable. Instantiate and train a KNN model with k = 7. How does the accuracy of the KNN model compare to the logistic regression from above? What does that tell you about the data?\n"
   ]
  },
  {
   "cell_type": "code",
   "execution_count": 14,
   "id": "5193f4a7",
   "metadata": {},
   "outputs": [
    {
     "name": "stdout",
     "output_type": "stream",
     "text": [
      "Accuracy of KNN (k = 7): 0.998\n"
     ]
    }
   ],
   "source": [
    "knn = KNeighborsClassifier(n_neighbors = 7)\n",
    "knn.fit(X_train, y_train)\n",
    "\n",
    "knn_7_score = knn.score(X_test, y_test)\n",
    "knn_7_predictions = knn.predict(X_test)\n",
    "\n",
    "print('Accuracy of KNN (k = 7): {:.3f}'.format(knn_7_score))"
   ]
  },
  {
   "cell_type": "markdown",
   "id": "c0d1166c",
   "metadata": {},
   "source": [
    "### The logistic regression model had the accuracy of 0.974. The KNN accuracy is slightly higher at 0.998. "
   ]
  },
  {
   "cell_type": "markdown",
   "id": "81b0614a",
   "metadata": {},
   "source": [
    "# 14. Random forest\n",
    "Next, instantiate and fit a random forest classifier and calculate the accuracy of that model.\n",
    "\n"
   ]
  },
  {
   "cell_type": "code",
   "execution_count": 15,
   "id": "461fbe3b",
   "metadata": {},
   "outputs": [
    {
     "name": "stdout",
     "output_type": "stream",
     "text": [
      "Accuracy of Random Forest: 0.999\n"
     ]
    }
   ],
   "source": [
    "rf = RandomForestClassifier(n_estimators = 2, random_state = 50)\n",
    "rf.fit(X_train, y_train)\n",
    "\n",
    "rf_score = rf.score(X_test, y_test)\n",
    "rf_predictions = rf.predict(X_test)\n",
    "\n",
    "print('Accuracy of Random Forest: {:.3f}'.format(rf_score))"
   ]
  }
 ],
 "metadata": {
  "kernelspec": {
   "display_name": "Python 3 (ipykernel)",
   "language": "python",
   "name": "python3"
  },
  "language_info": {
   "codemirror_mode": {
    "name": "ipython",
    "version": 3
   },
   "file_extension": ".py",
   "mimetype": "text/x-python",
   "name": "python",
   "nbconvert_exporter": "python",
   "pygments_lexer": "ipython3",
   "version": "3.8.2"
  }
 },
 "nbformat": 4,
 "nbformat_minor": 5
}
