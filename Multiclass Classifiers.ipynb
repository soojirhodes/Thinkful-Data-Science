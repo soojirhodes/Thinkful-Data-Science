{
 "cells": [
  {
   "cell_type": "markdown",
   "id": "ddf23ed3",
   "metadata": {},
   "source": [
    "# Multiclass Classifiers\n",
    "In this assignment you will load a dataset and train two models to perform multiclass classification and compare the results of the models. The dataset is the **digits** dataset available from the sklearn's *datasets* library. This dataset contain 1797 samples of written digits. The goal is to correctly identify digits from 0 to 9.\n",
    "## Load the data\n",
    "\n",
    "1. Import the *load_digits* function from the *sklearn.datasets* library\n",
    "2. Invoke *load_digits* with the *return_X_y* parameter set to true and store the returned dataset in variable **X** and **y**."
   ]
  },
  {
   "cell_type": "code",
   "execution_count": 1,
   "id": "62a46642",
   "metadata": {},
   "outputs": [],
   "source": [
    "#Set the environment:\n",
    "from sklearn.datasets import load_digits\n",
    "from sklearn.linear_model import LogisticRegression\n",
    "from sklearn.ensemble import RandomForestClassifier\n",
    "from sklearn.model_selection import train_test_split, cross_val_score\n",
    "\n",
    "import matplotlib.pyplot as plt\n",
    "import pandas as pd\n",
    "import numpy as np\n",
    "import seaborn as sns\n",
    "import itertools"
   ]
  },
  {
   "cell_type": "code",
   "execution_count": 2,
   "id": "223b8cb6",
   "metadata": {},
   "outputs": [],
   "source": [
    "# Import the load_digits function from the sklearn.datasets library.\n",
    "# Invoke load_digits with the return_X_y parameter set to true and store the returned dataset in variable X and y.\n",
    "X, y = load_digits(return_X_y = True)"
   ]
  },
  {
   "cell_type": "markdown",
   "id": "91ced0af",
   "metadata": {},
   "source": [
    "## Exploratory Data Analysis\n",
    "Perform a few exploratory  steps including:\n",
    "\n",
    "1. Display the number of rows of data returned.\n",
    "2. Display the number of features in the dataset.\n",
    "3. Use Numpy's **bincount** to display how many samples belong to each class. Is this a balanced dataset?"
   ]
  },
  {
   "cell_type": "code",
   "execution_count": 3,
   "id": "01064b77",
   "metadata": {},
   "outputs": [
    {
     "name": "stdout",
     "output_type": "stream",
     "text": [
      "The number of rows in the dataset is 1797\n",
      "The number of features in the dataset is 64\n",
      "There are array of [178 182 177 183 181 182 181 179 174 180] samples belong to each class.\n",
      "The dataset is balanced.\n"
     ]
    }
   ],
   "source": [
    "# Number of rows of data returned.\n",
    "num_rows = X.shape[0]\n",
    "print('The number of rows in the dataset is {:d}'.format(num_rows))\n",
    "\n",
    "# Number of features in the dataset.\n",
    "num_feat = X.shape[1]\n",
    "print('The number of features in the dataset is {:d}'.format(num_feat))\n",
    "\n",
    "# Use Numpy's bincount to display how many samples belong to each class.\n",
    "bincount = np.bincount(y)\n",
    "print(\"There are array of {} samples belong to each class.\".format(bincount))\n",
    "print(\"The dataset is balanced.\")"
   ]
  },
  {
   "cell_type": "markdown",
   "id": "de32c3df",
   "metadata": {},
   "source": [
    "## Prepare training and testing data\n",
    "1. Use *train_test_split* to split the dataset into a training set and a test set. Set the proportion of test data to 20%. Set a random state value so that the results will be repeatable."
   ]
  },
  {
   "cell_type": "code",
   "execution_count": 4,
   "id": "0ed4b843",
   "metadata": {},
   "outputs": [],
   "source": [
    "X_train, X_test, y_train, y_test = train_test_split(X, y, test_size = .2, random_state = 30)"
   ]
  },
  {
   "cell_type": "markdown",
   "id": "ed1f7e9d",
   "metadata": {},
   "source": [
    "## Cross validation with Logistic Regression\n",
    "In this step you will create a LogisticRegression classifier and use 5-fold cross validation to train the model.\n",
    "\n",
    "1. Import *LogisticRegression* classifier from sklearn.\n",
    "2. Instantiate a LogisticRegression classifier with the 'lbfgs' solver and 'ovr' multiclass strategy. You may have to set the maximum number of iterations to 1000.\n",
    "3. Perform cross validation on the model.\n",
    "4. Print the cross validation scores and the mean of the cross validation scores."
   ]
  },
  {
   "cell_type": "code",
   "execution_count": 5,
   "id": "89274e54",
   "metadata": {},
   "outputs": [
    {
     "name": "stdout",
     "output_type": "stream",
     "text": [
      "Accuracy scores for the five folds:  [0.97569444 0.95138889 0.96167247 0.97560976 0.94425087]\n",
      "Mean cross-validation score: 0.962\n"
     ]
    }
   ],
   "source": [
    "# Instantiate a LogisticRegression classifier with the 'lbfgs' solver and 'ovr' multiclass strategy. \n",
    "lr_clf = LogisticRegression(solver = 'lbfgs', multi_class = 'ovr', max_iter = 1000)\n",
    "\n",
    "# Perform cross validation on the model.\n",
    "lr_cv_scores = cross_val_score(lr_clf, X_train, y_train, cv = 5)\n",
    "\n",
    "# Print the cross validation scores and the mean of the cross validation scores.\n",
    "print(\"Accuracy scores for the five folds: \", lr_cv_scores)\n",
    "print(\"Mean cross-validation score: {:.3f}\".format(np.mean(lr_cv_scores)))"
   ]
  },
  {
   "cell_type": "markdown",
   "id": "3d8d28aa",
   "metadata": {},
   "source": [
    "## Cross validation with RandomForest\n",
    "Perform the same steps as above but this time with a RandomForestClassifier."
   ]
  },
  {
   "cell_type": "code",
   "execution_count": 6,
   "id": "8f4aa6c2",
   "metadata": {},
   "outputs": [
    {
     "name": "stdout",
     "output_type": "stream",
     "text": [
      "Accuracy scores for the five folds:  [0.96527778 0.97569444 0.97212544 0.97212544 0.94773519]\n",
      "Mean cross-validation score: 0.967\n"
     ]
    }
   ],
   "source": [
    "rf_clf = RandomForestClassifier(n_estimators = 24)\n",
    "rf_cv_scores = cross_val_score(rf_clf, X_train, y_train, cv = 5)\n",
    "\n",
    "print(\"Accuracy scores for the five folds: \", rf_cv_scores)\n",
    "print(\"Mean cross-validation score: {:.3f}\".format(np.mean(rf_cv_scores)))"
   ]
  }
 ],
 "metadata": {
  "kernelspec": {
   "display_name": "Python 3 (ipykernel)",
   "language": "python",
   "name": "python3"
  },
  "language_info": {
   "codemirror_mode": {
    "name": "ipython",
    "version": 3
   },
   "file_extension": ".py",
   "mimetype": "text/x-python",
   "name": "python",
   "nbconvert_exporter": "python",
   "pygments_lexer": "ipython3",
   "version": "3.8.2"
  }
 },
 "nbformat": 4,
 "nbformat_minor": 5
}
